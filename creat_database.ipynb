{
 "cells": [
  {
   "cell_type": "code",
   "execution_count": 9,
   "metadata": {},
   "outputs": [],
   "source": [
    "from sqlalchemy import create_engine\n",
    "import pandas as pd\n",
    "engine = create_engine(\"sqlite:///restaurants.sqlite\")\n",
    "connection = engine.connect()\n",
    "file = \"/Users/taymaradias/Documents/GitHub/python_projects/chatbot/veganrestaurants/secretldn.csv\"\n",
    "restaurants = pd.read_csv(file)\n",
    "restaurants.to_sql(name=\"restaurants\", con=connection, if_exists=\"append\", index=False)"
   ]
  },
  {
   "cell_type": "code",
   "execution_count": 15,
   "metadata": {},
   "outputs": [
    {
     "name": "stdout",
     "output_type": "stream",
     "text": [
      "[('Pied a Terre', 'https://feverup.com/m/75024?utm_source=secretldn&utm_medium=post&utm_campaign=75024_lon&utm_content=vegan-restaurants-london', 'Fitzrovia'), ('Mildred’s', 'http://www.mildreds.co.uk', 'various locations')]\n"
     ]
    }
   ],
   "source": [
    "from sqlalchemy import MetaData, Table, select\n",
    "metadata = MetaData()\n",
    "restaurants = Table('restaurants', metadata, autoload=True, autoload_with=engine)"
   ]
  },
  {
   "cell_type": "code",
   "execution_count": null,
   "metadata": {},
   "outputs": [],
   "source": [
    "st = select([restaurants])\n",
    "res = connection.execute(st).fetchmany(size = 2)\n",
    "print (res)"
   ]
  }
 ],
 "metadata": {
  "kernelspec": {
   "display_name": "Python 3",
   "language": "python",
   "name": "python3"
  },
  "language_info": {
   "codemirror_mode": {
    "name": "ipython",
    "version": 3
   },
   "file_extension": ".py",
   "mimetype": "text/x-python",
   "name": "python",
   "nbconvert_exporter": "python",
   "pygments_lexer": "ipython3",
   "version": "3.7.1"
  }
 },
 "nbformat": 4,
 "nbformat_minor": 2
}
